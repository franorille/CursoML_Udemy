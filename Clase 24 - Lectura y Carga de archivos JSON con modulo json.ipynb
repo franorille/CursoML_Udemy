{
 "cells": [
  {
   "cell_type": "code",
   "execution_count": 1,
   "id": "52a71623",
   "metadata": {},
   "outputs": [],
   "source": [
    "# modulo de la librería estandar de Python que permite leer y cargar json \n",
    "import json\n"
   ]
  },
  {
   "cell_type": "code",
   "execution_count": 2,
   "id": "a49a314b",
   "metadata": {},
   "outputs": [
    {
     "data": {
      "text/plain": [
       "'C:/Users/fgarc/proyectos Python/Curso Machine Learning Udemy/Data/201906_Usage_Bicimad.json'"
      ]
     },
     "execution_count": 2,
     "metadata": {},
     "output_type": "execute_result"
    }
   ],
   "source": [
    "# métodos json.load(el primer parámetro debemos darle un fichero abierto ya descomprimido de tipo JSON, que ya se pueda leer) sin la s final y json.dump()\n",
    "\n",
    "data_path = \"C:/Users/fgarc/proyectos Python/Curso Machine Learning Udemy/Data/201906_Usage_Bicimad.json\"\n",
    "data_path"
   ]
  },
  {
   "cell_type": "code",
   "execution_count": 3,
   "id": "46732c4f",
   "metadata": {},
   "outputs": [
    {
     "data": {
      "text/plain": [
       "[{'_id': {'$oid': '5cf83b752f3843a016be4e2f'},\n",
       "  'user_day_code': 'e4d55deb9ac172a8d8f5f0a32599815bd51b7c8760d67e42b11adf7c0829341b',\n",
       "  'idplug_base': 21,\n",
       "  'user_type': 1,\n",
       "  'idunplug_base': 8,\n",
       "  'travel_time': 219,\n",
       "  'idunplug_station': 90,\n",
       "  'ageRange': 0,\n",
       "  'idplug_station': 66,\n",
       "  'unplug_hourTime': {'$date': '2019-06-01T00:00:00.000+0200'},\n",
       "  'zip_code': ''},\n",
       " {'_id': {'$oid': '5cf83b762f3843a016be4e48'},\n",
       "  'user_day_code': '8a0c4123e924a50a958f51985eb71aea750fb072438035f149283490cc6bfaf4',\n",
       "  'idplug_base': 19,\n",
       "  'user_type': 1,\n",
       "  'idunplug_base': 19,\n",
       "  'travel_time': 359,\n",
       "  'idunplug_station': 71,\n",
       "  'ageRange': 4,\n",
       "  'idplug_station': 136,\n",
       "  'unplug_hourTime': {'$date': '2019-06-01T00:00:00.000+0200'},\n",
       "  'zip_code': '28039'},\n",
       " {'_id': {'$oid': '5cf83b762f3843a016be4e4f'},\n",
       "  'user_day_code': 'a6a9c1f74a68496000542210abc4fc2eba79e2756ad5355a626632f7783dd418',\n",
       "  'idplug_base': 17,\n",
       "  'user_type': 1,\n",
       "  'idunplug_base': 7,\n",
       "  'travel_time': 375,\n",
       "  'idunplug_station': 39,\n",
       "  'ageRange': 4,\n",
       "  'idplug_station': 38,\n",
       "  'unplug_hourTime': {'$date': '2019-06-01T00:00:00.000+0200'},\n",
       "  'zip_code': '28013'}]"
      ]
     },
     "execution_count": 3,
     "metadata": {},
     "output_type": "execute_result"
    }
   ],
   "source": [
    "# forma de abrir el fichero JSON\n",
    "# se debe abrir el fichero con el método with open(ruta del archivo, \"r\" (esa r es método de lectura read)) as f (esa f es el alias)\n",
    "# Por tanto, en caso de tratarse de un JSON simple, podría hacerse de la siguiente forma:\n",
    "\n",
    "# with open(data_path,\"r\") as f:\n",
    "    # json.load(f)\n",
    "\n",
    "# Pero se debe tener cuidado, si el JSON incluye JSON anidados, diccionarios dentro de otros diccionarios, \n",
    "# es decir, cada linea se puede interpretar como una estructura independiente de las otras lineas.\n",
    "# Por tanto, puede que no se pueda cargar el archivo del tirón, sino que deberémos ir leyendo línea por linea.\n",
    "# Pero al no estar leyendo el fichero entero, sino líneas, que son strings, debemos cambiar el método de lectura, ya no siendo json.load(), que está pensado para ficheros enteros\n",
    "# Ahora hay que recurrir al método json.loads() que está pensado para leer cadenas de tipo json\n",
    "\n",
    "\n",
    "rows_list=[] # creamos una lista, para que en cada iteración del bucle vayamos añadiendo una fila a la lista. Lo hacemos así para que no tenga que escribir las cientos de miles de filas que tiene el archivo\n",
    "\n",
    "for line in open(data_path,\"r\"):\n",
    "    rows_list.append(json.loads(line))\n",
    "    \n",
    "rows_list[0:3] # Mostrar solo los 3 primeros elementos, puede omitirse el primero cero porque se sobreentiende"
   ]
  },
  {
   "cell_type": "code",
   "execution_count": 5,
   "id": "a9012e7c",
   "metadata": {},
   "outputs": [
    {
     "data": {
      "text/plain": [
       "'{\"Asignatura\":\"Historia\", \"Aulas\":[\"A3\",\"B2\"]}'"
      ]
     },
     "execution_count": 5,
     "metadata": {},
     "output_type": "execute_result"
    }
   ],
   "source": [
    "# Formatear un JSON de forma que se aprecie bien la jearquía\n",
    "string1='{\"Asignatura\":\"Historia\", \"Aulas\":[\"A3\",\"B2\"]}' # Creación de String formateado como JSON\n",
    "string1\n"
   ]
  },
  {
   "cell_type": "code",
   "execution_count": 6,
   "id": "7d4fbe37",
   "metadata": {},
   "outputs": [
    {
     "data": {
      "text/plain": [
       "{'Asignatura': 'Historia', 'Aulas': ['A3', 'B2']}"
      ]
     },
     "execution_count": 6,
     "metadata": {},
     "output_type": "execute_result"
    }
   ],
   "source": [
    "# Convierte un string formateado como un JSON en un diccionario\n",
    "diccionario1= json.loads(string1) \n",
    "diccionario1\n"
   ]
  },
  {
   "cell_type": "code",
   "execution_count": 14,
   "id": "72600bf4",
   "metadata": {},
   "outputs": [
    {
     "name": "stdout",
     "output_type": "stream",
     "text": [
      "{\n",
      "     \"Asignatura\": \"Historia\",\n",
      "     \"Aulas\": [\n",
      "          \"A3\",\n",
      "          \"B2\"\n",
      "     ]\n",
      "}\n"
     ]
    }
   ],
   "source": [
    "#cambiamos los valores por defecto de los parametros indent y sort_keys para apreciar mejor la jerarquia del JSON y formatearlo con una buena identación\n",
    "string2 = json.dumps(diccionario1, indent=5, sort_keys = True)\n",
    "print(string2) # ojo, si se muestra la variable string2 sin el print, no apareceran correctamente formateados los saltos de líena, apareceran como \\n\n"
   ]
  },
  {
   "cell_type": "code",
   "execution_count": 13,
   "id": "77f3c444",
   "metadata": {},
   "outputs": [
    {
     "data": {
      "text/plain": [
       "'{\\n  \"Asignatura\": \"Historia\",\\n  \"Aulas\": [\\n    \"A3\",\\n    \"B2\"\\n  ]\\n}'"
      ]
     },
     "execution_count": 13,
     "metadata": {},
     "output_type": "execute_result"
    }
   ],
   "source": [
    "string2 #Demostración de lo que decía antes\n"
   ]
  }
 ],
 "metadata": {
  "kernelspec": {
   "display_name": "Python 3 (ipykernel)",
   "language": "python",
   "name": "python3"
  },
  "language_info": {
   "codemirror_mode": {
    "name": "ipython",
    "version": 3
   },
   "file_extension": ".py",
   "mimetype": "text/x-python",
   "name": "python",
   "nbconvert_exporter": "python",
   "pygments_lexer": "ipython3",
   "version": "3.10.11"
  },
  "toc": {
   "base_numbering": 1,
   "nav_menu": {},
   "number_sections": true,
   "sideBar": true,
   "skip_h1_title": false,
   "title_cell": "Table of Contents",
   "title_sidebar": "Contents",
   "toc_cell": false,
   "toc_position": {},
   "toc_section_display": true,
   "toc_window_display": false
  },
  "varInspector": {
   "cols": {
    "lenName": 16,
    "lenType": 16,
    "lenVar": 40
   },
   "kernels_config": {
    "python": {
     "delete_cmd_postfix": "",
     "delete_cmd_prefix": "del ",
     "library": "var_list.py",
     "varRefreshCmd": "print(var_dic_list())"
    },
    "r": {
     "delete_cmd_postfix": ") ",
     "delete_cmd_prefix": "rm(",
     "library": "var_list.r",
     "varRefreshCmd": "cat(var_dic_list()) "
    }
   },
   "types_to_exclude": [
    "module",
    "function",
    "builtin_function_or_method",
    "instance",
    "_Feature"
   ],
   "window_display": false
  }
 },
 "nbformat": 4,
 "nbformat_minor": 5
}
