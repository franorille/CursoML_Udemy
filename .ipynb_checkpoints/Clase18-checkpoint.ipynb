{
 "cells": [
  {
   "cell_type": "markdown",
   "id": "d9305baa",
   "metadata": {},
   "source": [
    "#### Cargar librería\n",
    "Primero debe tenerse instalada la librería\n",
    "mediante palabra reservada import nombre_librería [as alias] "
   ]
  },
  {
   "cell_type": "code",
   "execution_count": 7,
   "id": "0793cb84",
   "metadata": {},
   "outputs": [],
   "source": [
    "import numpy as np\n",
    "import pandas as pd\n",
    "\n",
    "from sklearn import * # forma alternativa para importar la biblioteca entera con los nombres que venga dados"
   ]
  },
  {
   "cell_type": "code",
   "execution_count": 6,
   "id": "1f652996",
   "metadata": {},
   "outputs": [
    {
     "data": {
      "text/plain": [
       "array([ 1.,  2.,  3.,  4.,  5.,  6.,  7.,  8.,  9., 10.])"
      ]
     },
     "execution_count": 6,
     "metadata": {},
     "output_type": "execute_result"
    }
   ],
   "source": [
    "np.linspace(1,10,10)"
   ]
  },
  {
   "cell_type": "code",
   "execution_count": 11,
   "id": "50da0913",
   "metadata": {},
   "outputs": [
    {
     "name": "stdout",
     "output_type": "stream",
     "text": [
      "[[2 3]\n",
      " [5 4]\n",
      " [6 4]\n",
      " [1 7]]\n"
     ]
    }
   ],
   "source": [
    "array = np.array([[2,3],[5,4],[6,4],[1,7]])\n",
    "print (array)"
   ]
  },
  {
   "cell_type": "code",
   "execution_count": 14,
   "id": "cd88d653",
   "metadata": {},
   "outputs": [
    {
     "data": {
      "text/plain": [
       "0    Manzanas\n",
       "1     Cerezas\n",
       "2    Platanos\n",
       "dtype: object"
      ]
     },
     "execution_count": 14,
     "metadata": {},
     "output_type": "execute_result"
    }
   ],
   "source": [
    "lista_valores=[\"Manzanas\", \"Cerezas\", \"Platanos\"]\n",
    "serie1 = pd.Series(data=lista_valores,index=None)\n",
    "serie1"
   ]
  },
  {
   "cell_type": "code",
   "execution_count": 15,
   "id": "e07a4c29",
   "metadata": {},
   "outputs": [
    {
     "data": {
      "text/plain": [
       "fruta1    Manzanas\n",
       "fruta2     Cerezas\n",
       "fruta3    Platanos\n",
       "dtype: object"
      ]
     },
     "execution_count": 15,
     "metadata": {},
     "output_type": "execute_result"
    }
   ],
   "source": [
    "serie2 = pd.Series(data=lista_valores,index=[\"fruta1\",\"fruta2\",\"fruta3\"])\n",
    "serie2"
   ]
  },
  {
   "cell_type": "code",
   "execution_count": 16,
   "id": "9def8876",
   "metadata": {},
   "outputs": [
    {
     "data": {
      "text/plain": [
       "valor1    1\n",
       "valor2    2\n",
       "valor3    3\n",
       "dtype: int64"
      ]
     },
     "execution_count": 16,
     "metadata": {},
     "output_type": "execute_result"
    }
   ],
   "source": [
    "pd.Series(data={\"valor1\":1,\"valor2\":2,\"valor3\":3})\n"
   ]
  },
  {
   "cell_type": "code",
   "execution_count": 18,
   "id": "1c59bfa4",
   "metadata": {},
   "outputs": [
    {
     "name": "stdout",
     "output_type": "stream",
     "text": [
      "0    Manzanas\n",
      "1     Cerezas\n",
      "2    Platanos\n",
      "dtype: object\n",
      "0    0.99\n",
      "1    2.95\n",
      "2    0.79\n",
      "dtype: float64\n"
     ]
    }
   ],
   "source": [
    "productos = pd.Series([\"Manzanas\", \"Cerezas\", \"Platanos\"])\n",
    "precios = pd.Series([0.99,2.95,0.79])\n",
    "print(productos)\n",
    "print(precios)"
   ]
  },
  {
   "cell_type": "code",
   "execution_count": 22,
   "id": "24e20f13",
   "metadata": {},
   "outputs": [],
   "source": [
    "df_frutas = pd.DataFrame({\"Producto\": productos, \"Precio\":precios})\n"
   ]
  },
  {
   "cell_type": "code",
   "execution_count": 23,
   "id": "526a6178",
   "metadata": {},
   "outputs": [
    {
     "data": {
      "text/plain": [
       "Index(['Producto', 'Precio'], dtype='object')"
      ]
     },
     "execution_count": 23,
     "metadata": {},
     "output_type": "execute_result"
    }
   ],
   "source": [
    "df_frutas.columns"
   ]
  },
  {
   "cell_type": "code",
   "execution_count": 25,
   "id": "efa0cee7",
   "metadata": {},
   "outputs": [
    {
     "data": {
      "text/plain": [
       "array([['Manzanas', 0.99],\n",
       "       ['Cerezas', 2.95],\n",
       "       ['Platanos', 0.79]], dtype=object)"
      ]
     },
     "execution_count": 25,
     "metadata": {},
     "output_type": "execute_result"
    }
   ],
   "source": [
    "\n",
    "df_frutas.values"
   ]
  },
  {
   "cell_type": "code",
   "execution_count": 26,
   "id": "3db4d3cb",
   "metadata": {},
   "outputs": [
    {
     "data": {
      "text/plain": [
       "RangeIndex(start=0, stop=3, step=1)"
      ]
     },
     "execution_count": 26,
     "metadata": {},
     "output_type": "execute_result"
    }
   ],
   "source": [
    "df_frutas.index\n"
   ]
  },
  {
   "cell_type": "code",
   "execution_count": 27,
   "id": "f486c402",
   "metadata": {},
   "outputs": [
    {
     "data": {
      "text/plain": [
       "(3, 2)"
      ]
     },
     "execution_count": 27,
     "metadata": {},
     "output_type": "execute_result"
    }
   ],
   "source": [
    "df_frutas.shape"
   ]
  },
  {
   "cell_type": "code",
   "execution_count": 30,
   "id": "a9e8c85a",
   "metadata": {},
   "outputs": [],
   "source": [
    "df_a=pd.DataFrame({\"Producto\":[\"Producto1\",\"Producto3\",\"Producto2\"], \"Columna2\":[1,3,4]})"
   ]
  },
  {
   "cell_type": "code",
   "execution_count": 31,
   "id": "62796960",
   "metadata": {},
   "outputs": [
    {
     "data": {
      "text/plain": [
       "Producto    object\n",
       "Columna2     int64\n",
       "dtype: object"
      ]
     },
     "execution_count": 31,
     "metadata": {},
     "output_type": "execute_result"
    }
   ],
   "source": [
    "df_a.dtypes"
   ]
  },
  {
   "cell_type": "code",
   "execution_count": 33,
   "id": "9006cdea",
   "metadata": {},
   "outputs": [
    {
     "data": {
      "text/html": [
       "<div>\n",
       "<style scoped>\n",
       "    .dataframe tbody tr th:only-of-type {\n",
       "        vertical-align: middle;\n",
       "    }\n",
       "\n",
       "    .dataframe tbody tr th {\n",
       "        vertical-align: top;\n",
       "    }\n",
       "\n",
       "    .dataframe thead th {\n",
       "        text-align: right;\n",
       "    }\n",
       "</style>\n",
       "<table border=\"1\" class=\"dataframe\">\n",
       "  <thead>\n",
       "    <tr style=\"text-align: right;\">\n",
       "      <th></th>\n",
       "      <th>Columna1</th>\n",
       "      <th>Columna2</th>\n",
       "      <th>Columna3</th>\n",
       "      <th>Columna4</th>\n",
       "      <th>Columna5</th>\n",
       "      <th>Columna6</th>\n",
       "    </tr>\n",
       "  </thead>\n",
       "  <tbody>\n",
       "    <tr>\n",
       "      <th>0</th>\n",
       "      <td>1970-01-01 00:00:00.020200922</td>\n",
       "      <td>10.0</td>\n",
       "      <td>5.0</td>\n",
       "      <td>Valor1</td>\n",
       "      <td>Valor constante</td>\n",
       "      <td>2</td>\n",
       "    </tr>\n",
       "    <tr>\n",
       "      <th>1</th>\n",
       "      <td>1970-01-01 00:00:00.020200922</td>\n",
       "      <td>10.0</td>\n",
       "      <td>5.0</td>\n",
       "      <td>Valor2</td>\n",
       "      <td>Valor constante</td>\n",
       "      <td>2</td>\n",
       "    </tr>\n",
       "    <tr>\n",
       "      <th>2</th>\n",
       "      <td>1970-01-01 00:00:00.020200922</td>\n",
       "      <td>10.0</td>\n",
       "      <td>5.0</td>\n",
       "      <td>Valor3</td>\n",
       "      <td>Valor constante</td>\n",
       "      <td>2</td>\n",
       "    </tr>\n",
       "    <tr>\n",
       "      <th>3</th>\n",
       "      <td>1970-01-01 00:00:00.020200922</td>\n",
       "      <td>10.0</td>\n",
       "      <td>5.0</td>\n",
       "      <td>Valor4</td>\n",
       "      <td>Valor constante</td>\n",
       "      <td>2</td>\n",
       "    </tr>\n",
       "    <tr>\n",
       "      <th>4</th>\n",
       "      <td>1970-01-01 00:00:00.020200922</td>\n",
       "      <td>10.0</td>\n",
       "      <td>5.0</td>\n",
       "      <td>Valor5</td>\n",
       "      <td>Valor constante</td>\n",
       "      <td>2</td>\n",
       "    </tr>\n",
       "    <tr>\n",
       "      <th>5</th>\n",
       "      <td>1970-01-01 00:00:00.020200922</td>\n",
       "      <td>10.0</td>\n",
       "      <td>5.0</td>\n",
       "      <td>Valor6</td>\n",
       "      <td>Valor constante</td>\n",
       "      <td>2</td>\n",
       "    </tr>\n",
       "  </tbody>\n",
       "</table>\n",
       "</div>"
      ],
      "text/plain": [
       "                       Columna1  Columna2  Columna3 Columna4         Columna5  \\\n",
       "0 1970-01-01 00:00:00.020200922      10.0       5.0   Valor1  Valor constante   \n",
       "1 1970-01-01 00:00:00.020200922      10.0       5.0   Valor2  Valor constante   \n",
       "2 1970-01-01 00:00:00.020200922      10.0       5.0   Valor3  Valor constante   \n",
       "3 1970-01-01 00:00:00.020200922      10.0       5.0   Valor4  Valor constante   \n",
       "4 1970-01-01 00:00:00.020200922      10.0       5.0   Valor5  Valor constante   \n",
       "5 1970-01-01 00:00:00.020200922      10.0       5.0   Valor6  Valor constante   \n",
       "\n",
       "   Columna6  \n",
       "0         2  \n",
       "1         2  \n",
       "2         2  \n",
       "3         2  \n",
       "4         2  \n",
       "5         2  "
      ]
     },
     "execution_count": 33,
     "metadata": {},
     "output_type": "execute_result"
    }
   ],
   "source": [
    "df = pd.DataFrame(\n",
    "{\"Columna1\" : pd.Timestamp(20200922),\n",
    "\"Columna2\" : pd.Series(10, index=list(range(6)),dtype=\"float32\"),\n",
    " \"Columna3\" : 5.,\n",
    " \"Columna4\" : pd.Categorical([\"Valor1\",\"Valor2\",\"Valor3\",\"Valor4\",\"Valor5\",\"Valor6\"]),\n",
    " \"Columna5\" : \"Valor constante\",\n",
    " \"Columna6\" : np.array([2]*6, dtype=\"int32\")\n",
    "}\n",
    ")\n",
    "df"
   ]
  },
  {
   "cell_type": "code",
   "execution_count": 34,
   "id": "1eda10f0",
   "metadata": {},
   "outputs": [
    {
     "data": {
      "text/plain": [
       "Columna1    datetime64[ns]\n",
       "Columna2           float32\n",
       "Columna3           float64\n",
       "Columna4          category\n",
       "Columna5            object\n",
       "Columna6             int32\n",
       "dtype: object"
      ]
     },
     "execution_count": 34,
     "metadata": {},
     "output_type": "execute_result"
    }
   ],
   "source": [
    "df.dtypes"
   ]
  },
  {
   "cell_type": "code",
   "execution_count": null,
   "id": "ae5ef859",
   "metadata": {},
   "outputs": [],
   "source": []
  }
 ],
 "metadata": {
  "kernelspec": {
   "display_name": "Python 3 (ipykernel)",
   "language": "python",
   "name": "python3"
  },
  "language_info": {
   "codemirror_mode": {
    "name": "ipython",
    "version": 3
   },
   "file_extension": ".py",
   "mimetype": "text/x-python",
   "name": "python",
   "nbconvert_exporter": "python",
   "pygments_lexer": "ipython3",
   "version": "3.10.11"
  }
 },
 "nbformat": 4,
 "nbformat_minor": 5
}
