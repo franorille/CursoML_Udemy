{
 "cells": [
  {
   "cell_type": "code",
   "execution_count": 1,
   "id": "e3b9dfd1",
   "metadata": {},
   "outputs": [],
   "source": [
    "# Convertir un diccionario a un JSON\n",
    "import json"
   ]
  },
  {
   "cell_type": "code",
   "execution_count": 6,
   "id": "8e0767c8",
   "metadata": {},
   "outputs": [
    {
     "data": {
      "text/plain": [
       "{'cláve1': 1, 'cláve2': [5, 7]}"
      ]
     },
     "execution_count": 6,
     "metadata": {},
     "output_type": "execute_result"
    }
   ],
   "source": [
    "# Creacción de un diccionario\n",
    "subject_dicc={\"cláve1\":1,\"cláve2\":[5,7]}\n",
    "subject_dicc"
   ]
  },
  {
   "cell_type": "code",
   "execution_count": 7,
   "id": "02d4e319",
   "metadata": {},
   "outputs": [
    {
     "data": {
      "text/plain": [
       "'{\"cláve1\": 1, \"cláve2\": [5, 7]}'"
      ]
     },
     "execution_count": 7,
     "metadata": {},
     "output_type": "execute_result"
    }
   ],
   "source": [
    "# Método para transformar el diccionario en un JSON -- Es decir, serializa en un String con formato JSON\n",
    "# Ojo con las tildes porque no decodifica correctamente la tilde porque por defecto decodifica los caracteres como ASCI,\n",
    "# para arreglarlo, es decir mantener los caracteres unicode sin alterar, debemos camibar valor por defecto de parámetro ensure_asci=False\n",
    "json.dumps(subject_dicc,ensure_ascii=False)"
   ]
  },
  {
   "cell_type": "code",
   "execution_count": 8,
   "id": "e14c2bdd",
   "metadata": {},
   "outputs": [
    {
     "data": {
      "text/plain": [
       "'{\"cláve1\": 1, \"cláve2\": [5, 7]}'"
      ]
     },
     "execution_count": 8,
     "metadata": {},
     "output_type": "execute_result"
    }
   ],
   "source": [
    "#Cargar un JSON en un diccionario, Realmente cargamos un String formateado como JSON en un diccionario mediante método json.loads(string)\n",
    "string1= '{\"cláve1\": 1, \"cláve2\": [5, 7]}'\n",
    "string1"
   ]
  },
  {
   "cell_type": "code",
   "execution_count": 9,
   "id": "32696f0e",
   "metadata": {},
   "outputs": [
    {
     "data": {
      "text/plain": [
       "{'cláve1': 1, 'cláve2': [5, 7]}"
      ]
     },
     "execution_count": 9,
     "metadata": {},
     "output_type": "execute_result"
    }
   ],
   "source": [
    "# String con formato JSON formateado como un diccionarios.\n",
    "json.loads(string1)"
   ]
  },
  {
   "cell_type": "code",
   "execution_count": null,
   "id": "82b134b8",
   "metadata": {},
   "outputs": [],
   "source": [
    "#ojo no confundir métodos dumps y loads, con dump y load"
   ]
  }
 ],
 "metadata": {
  "kernelspec": {
   "display_name": "Python 3 (ipykernel)",
   "language": "python",
   "name": "python3"
  },
  "language_info": {
   "codemirror_mode": {
    "name": "ipython",
    "version": 3
   },
   "file_extension": ".py",
   "mimetype": "text/x-python",
   "name": "python",
   "nbconvert_exporter": "python",
   "pygments_lexer": "ipython3",
   "version": "3.10.11"
  },
  "toc": {
   "base_numbering": 1,
   "nav_menu": {},
   "number_sections": true,
   "sideBar": true,
   "skip_h1_title": false,
   "title_cell": "Table of Contents",
   "title_sidebar": "Contents",
   "toc_cell": false,
   "toc_position": {},
   "toc_section_display": true,
   "toc_window_display": false
  },
  "varInspector": {
   "cols": {
    "lenName": 16,
    "lenType": 16,
    "lenVar": 40
   },
   "kernels_config": {
    "python": {
     "delete_cmd_postfix": "",
     "delete_cmd_prefix": "del ",
     "library": "var_list.py",
     "varRefreshCmd": "print(var_dic_list())"
    },
    "r": {
     "delete_cmd_postfix": ") ",
     "delete_cmd_prefix": "rm(",
     "library": "var_list.r",
     "varRefreshCmd": "cat(var_dic_list()) "
    }
   },
   "types_to_exclude": [
    "module",
    "function",
    "builtin_function_or_method",
    "instance",
    "_Feature"
   ],
   "window_display": false
  }
 },
 "nbformat": 4,
 "nbformat_minor": 5
}
